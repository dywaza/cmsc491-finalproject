{
 "cells": [
  {
   "cell_type": "code",
   "execution_count": 1,
   "metadata": {},
   "outputs": [],
   "source": [
    "import pandas as pd\n",
    "import math\n",
    "import numpy as np\n",
    "import matplotlib.pyplot as plt"
   ]
  },
  {
   "cell_type": "code",
   "execution_count": 2,
   "metadata": {},
   "outputs": [],
   "source": [
    "from sklearn import linear_model\n",
    "from sklearn.metrics import mean_squared_error\n",
    "from sklearn.metrics import r2_score"
   ]
  },
  {
   "cell_type": "code",
   "execution_count": 3,
   "metadata": {},
   "outputs": [],
   "source": [
    "propTaxes = pd.read_csv(\"Real_Property_Taxes.csv\")"
   ]
  },
  {
   "cell_type": "code",
   "execution_count": 4,
   "metadata": {},
   "outputs": [],
   "source": [
    "vacBuil = pd.read_csv(\"Vacant_Buildings.csv\")"
   ]
  },
  {
   "cell_type": "code",
   "execution_count": 5,
   "metadata": {},
   "outputs": [],
   "source": [
    "crime = pd.read_csv(\"crime.csv\")"
   ]
  },
  {
   "cell_type": "code",
   "execution_count": 6,
   "metadata": {
    "scrolled": true
   },
   "outputs": [
    {
     "data": {
      "text/html": [
       "<div>\n",
       "<style scoped>\n",
       "    .dataframe tbody tr th:only-of-type {\n",
       "        vertical-align: middle;\n",
       "    }\n",
       "\n",
       "    .dataframe tbody tr th {\n",
       "        vertical-align: top;\n",
       "    }\n",
       "\n",
       "    .dataframe thead th {\n",
       "        text-align: right;\n",
       "    }\n",
       "</style>\n",
       "<table border=\"1\" class=\"dataframe\">\n",
       "  <thead>\n",
       "    <tr style=\"text-align: right;\">\n",
       "      <th></th>\n",
       "      <th>ReferenceID</th>\n",
       "      <th>Block</th>\n",
       "      <th>Lot</th>\n",
       "      <th>BuildingAddress</th>\n",
       "      <th>NoticeDate</th>\n",
       "      <th>Neighborhood</th>\n",
       "      <th>PoliceDistrict</th>\n",
       "      <th>CouncilDistrict</th>\n",
       "      <th>Location</th>\n",
       "      <th>Zip Codes</th>\n",
       "      <th>2010 Census Neighborhoods</th>\n",
       "    </tr>\n",
       "  </thead>\n",
       "  <tbody>\n",
       "    <tr>\n",
       "      <th>0</th>\n",
       "      <td>0005 048 080617</td>\n",
       "      <td>0005</td>\n",
       "      <td>048</td>\n",
       "      <td>1612 WESTWOOD AVE</td>\n",
       "      <td>08/06/2017</td>\n",
       "      <td>Sandtown-Winchester</td>\n",
       "      <td>Western</td>\n",
       "      <td>7</td>\n",
       "      <td>(39.30942566, -76.64407735)</td>\n",
       "      <td>27301</td>\n",
       "      <td>221</td>\n",
       "    </tr>\n",
       "    <tr>\n",
       "      <th>1</th>\n",
       "      <td>0010 010 080617</td>\n",
       "      <td>0010</td>\n",
       "      <td>010</td>\n",
       "      <td>1720 N CALHOUN ST</td>\n",
       "      <td>08/06/2017</td>\n",
       "      <td>Sandtown-Winchester</td>\n",
       "      <td>Western</td>\n",
       "      <td>7</td>\n",
       "      <td>(39.30832648, -76.64425597)</td>\n",
       "      <td>27301</td>\n",
       "      <td>221</td>\n",
       "    </tr>\n",
       "    <tr>\n",
       "      <th>2</th>\n",
       "      <td>0012 029 080917</td>\n",
       "      <td>0012</td>\n",
       "      <td>029</td>\n",
       "      <td>1630 APPLETON ST</td>\n",
       "      <td>08/09/2017</td>\n",
       "      <td>Easterwood</td>\n",
       "      <td>Western</td>\n",
       "      <td>7</td>\n",
       "      <td>(39.30725339, -76.64913999)</td>\n",
       "      <td>27301</td>\n",
       "      <td>74</td>\n",
       "    </tr>\n",
       "    <tr>\n",
       "      <th>3</th>\n",
       "      <td>0021 075 080617</td>\n",
       "      <td>0021</td>\n",
       "      <td>075</td>\n",
       "      <td>1710 PRESSTMAN ST</td>\n",
       "      <td>08/06/2017</td>\n",
       "      <td>Sandtown-Winchester</td>\n",
       "      <td>Western</td>\n",
       "      <td>7</td>\n",
       "      <td>(39.30553542, -76.64512031)</td>\n",
       "      <td>27301</td>\n",
       "      <td>221</td>\n",
       "    </tr>\n",
       "    <tr>\n",
       "      <th>4</th>\n",
       "      <td>0074 027 080617</td>\n",
       "      <td>0074</td>\n",
       "      <td>027</td>\n",
       "      <td>934 N GILMOR ST</td>\n",
       "      <td>08/06/2017</td>\n",
       "      <td>Sandtown-Winchester</td>\n",
       "      <td>Western</td>\n",
       "      <td>9</td>\n",
       "      <td>(39.29969704, -76.64324911)</td>\n",
       "      <td>27301</td>\n",
       "      <td>221</td>\n",
       "    </tr>\n",
       "    <tr>\n",
       "      <th>5</th>\n",
       "      <td>0096 085 080417</td>\n",
       "      <td>0096</td>\n",
       "      <td>085</td>\n",
       "      <td>1827 RAYNER AVE</td>\n",
       "      <td>08/04/2017</td>\n",
       "      <td>Harlem Park</td>\n",
       "      <td>Western</td>\n",
       "      <td>9</td>\n",
       "      <td>(39.29682925, -76.6469342)</td>\n",
       "      <td>27301</td>\n",
       "      <td>106</td>\n",
       "    </tr>\n",
       "    <tr>\n",
       "      <th>6</th>\n",
       "      <td>0696 048 080617</td>\n",
       "      <td>0696</td>\n",
       "      <td>048</td>\n",
       "      <td>527 S BENTALOU ST</td>\n",
       "      <td>08/06/2017</td>\n",
       "      <td>Carrollton Ridge</td>\n",
       "      <td>Southwestern</td>\n",
       "      <td>9</td>\n",
       "      <td>(39.2808626, -76.65194848)</td>\n",
       "      <td>27632</td>\n",
       "      <td>36</td>\n",
       "    </tr>\n",
       "    <tr>\n",
       "      <th>7</th>\n",
       "      <td>0696 058 080617</td>\n",
       "      <td>0696</td>\n",
       "      <td>058</td>\n",
       "      <td>507 S BENTALOU ST</td>\n",
       "      <td>08/06/2017</td>\n",
       "      <td>Carrollton Ridge</td>\n",
       "      <td>Southwestern</td>\n",
       "      <td>9</td>\n",
       "      <td>(39.28131308, -76.65219815)</td>\n",
       "      <td>27632</td>\n",
       "      <td>36</td>\n",
       "    </tr>\n",
       "    <tr>\n",
       "      <th>8</th>\n",
       "      <td>1107 028 080617</td>\n",
       "      <td>1107</td>\n",
       "      <td>028</td>\n",
       "      <td>1728 N CAROLINE ST</td>\n",
       "      <td>08/06/2017</td>\n",
       "      <td>Oliver</td>\n",
       "      <td>Eastern</td>\n",
       "      <td>12</td>\n",
       "      <td>(39.31035125, -76.59863589)</td>\n",
       "      <td>26956</td>\n",
       "      <td>180</td>\n",
       "    </tr>\n",
       "    <tr>\n",
       "      <th>9</th>\n",
       "      <td>1169 053 080617</td>\n",
       "      <td>1169</td>\n",
       "      <td>053</td>\n",
       "      <td>1113 GREENMOUNT AVE</td>\n",
       "      <td>08/06/2017</td>\n",
       "      <td>Johnston Square</td>\n",
       "      <td>Eastern</td>\n",
       "      <td>12</td>\n",
       "      <td>(39.30322012, -76.60752633)</td>\n",
       "      <td>13645</td>\n",
       "      <td>124</td>\n",
       "    </tr>\n",
       "    <tr>\n",
       "      <th>10</th>\n",
       "      <td>1573 031 080617</td>\n",
       "      <td>1573</td>\n",
       "      <td>031</td>\n",
       "      <td>2513 E CHASE ST</td>\n",
       "      <td>08/06/2017</td>\n",
       "      <td>Biddle Street</td>\n",
       "      <td>Eastern</td>\n",
       "      <td>13</td>\n",
       "      <td>(39.30353699, -76.58174293)</td>\n",
       "      <td>13987</td>\n",
       "      <td>19</td>\n",
       "    </tr>\n",
       "    <tr>\n",
       "      <th>11</th>\n",
       "      <td>1646 051 080817</td>\n",
       "      <td>1646</td>\n",
       "      <td>051</td>\n",
       "      <td>627 N DECKER AVE</td>\n",
       "      <td>08/08/2017</td>\n",
       "      <td>Ellwood Park/Monument</td>\n",
       "      <td>Southeastern</td>\n",
       "      <td>13</td>\n",
       "      <td>(39.29883497, -76.57427464)</td>\n",
       "      <td>13987</td>\n",
       "      <td>78</td>\n",
       "    </tr>\n",
       "    <tr>\n",
       "      <th>12</th>\n",
       "      <td>1658 080 080617</td>\n",
       "      <td>1658</td>\n",
       "      <td>080</td>\n",
       "      <td>519 N BELNORD AVE</td>\n",
       "      <td>08/06/2017</td>\n",
       "      <td>McElderry Park</td>\n",
       "      <td>Southeastern</td>\n",
       "      <td>13</td>\n",
       "      <td>(39.29750187, -76.57848448)</td>\n",
       "      <td>13987</td>\n",
       "      <td>141</td>\n",
       "    </tr>\n",
       "    <tr>\n",
       "      <th>13</th>\n",
       "      <td>2138 037 080917</td>\n",
       "      <td>2138</td>\n",
       "      <td>037</td>\n",
       "      <td>2692 DULANY ST</td>\n",
       "      <td>08/09/2017</td>\n",
       "      <td>Millhill</td>\n",
       "      <td>Southwestern</td>\n",
       "      <td>9</td>\n",
       "      <td>(39.27945061, -76.65878091)</td>\n",
       "      <td>27632</td>\n",
       "      <td>154</td>\n",
       "    </tr>\n",
       "    <tr>\n",
       "      <th>14</th>\n",
       "      <td>2183A014 080917</td>\n",
       "      <td>2183A</td>\n",
       "      <td>014</td>\n",
       "      <td>306 STINSON ST</td>\n",
       "      <td>08/09/2017</td>\n",
       "      <td>Shipley Hill</td>\n",
       "      <td>Southwestern</td>\n",
       "      <td>9</td>\n",
       "      <td>(39.28377301, -76.65891745)</td>\n",
       "      <td>27632</td>\n",
       "      <td>225</td>\n",
       "    </tr>\n",
       "    <tr>\n",
       "      <th>15</th>\n",
       "      <td>2377A050 080417</td>\n",
       "      <td>2377A</td>\n",
       "      <td>050</td>\n",
       "      <td>2840 HARLEM AVE</td>\n",
       "      <td>08/04/2017</td>\n",
       "      <td>Mosher</td>\n",
       "      <td>Western</td>\n",
       "      <td>9</td>\n",
       "      <td>(39.29567014, -76.66406162)</td>\n",
       "      <td>27297</td>\n",
       "      <td>163</td>\n",
       "    </tr>\n",
       "    <tr>\n",
       "      <th>16</th>\n",
       "      <td>3004 041 080417</td>\n",
       "      <td>3004</td>\n",
       "      <td>041</td>\n",
       "      <td>2943 WALBROOK AVE</td>\n",
       "      <td>08/04/2017</td>\n",
       "      <td>Walbrook</td>\n",
       "      <td>Southwestern</td>\n",
       "      <td>7</td>\n",
       "      <td>(39.30997586, -76.66702749)</td>\n",
       "      <td>27297</td>\n",
       "      <td>246</td>\n",
       "    </tr>\n",
       "    <tr>\n",
       "      <th>17</th>\n",
       "      <td>3100E018 080617</td>\n",
       "      <td>3100E</td>\n",
       "      <td>018</td>\n",
       "      <td>3134 SEQUOIA AVE</td>\n",
       "      <td>08/06/2017</td>\n",
       "      <td>East Arlington</td>\n",
       "      <td>Northwestern</td>\n",
       "      <td>7</td>\n",
       "      <td>(39.32839271, -76.6665682)</td>\n",
       "      <td>27295</td>\n",
       "      <td>72</td>\n",
       "    </tr>\n",
       "    <tr>\n",
       "      <th>18</th>\n",
       "      <td>3185A017 080817</td>\n",
       "      <td>3185A</td>\n",
       "      <td>017</td>\n",
       "      <td>2819 BOARMAN AVE</td>\n",
       "      <td>08/08/2017</td>\n",
       "      <td>Towanda-Grantley</td>\n",
       "      <td>Northwestern</td>\n",
       "      <td>6</td>\n",
       "      <td>(39.33753277, -76.66821989)</td>\n",
       "      <td>27295</td>\n",
       "      <td>232</td>\n",
       "    </tr>\n",
       "    <tr>\n",
       "      <th>19</th>\n",
       "      <td>0055C006 020817</td>\n",
       "      <td>0055C</td>\n",
       "      <td>006</td>\n",
       "      <td>1111 N CAREY ST</td>\n",
       "      <td>02/08/2017</td>\n",
       "      <td>Sandtown-Winchester</td>\n",
       "      <td>Western</td>\n",
       "      <td>9</td>\n",
       "      <td>(39.30148939, -76.63858866)</td>\n",
       "      <td>27301</td>\n",
       "      <td>221</td>\n",
       "    </tr>\n",
       "    <tr>\n",
       "      <th>20</th>\n",
       "      <td>0059 043 021417</td>\n",
       "      <td>0059</td>\n",
       "      <td>043</td>\n",
       "      <td>1007 N MONROE ST</td>\n",
       "      <td>02/14/2017</td>\n",
       "      <td>Sandtown-Winchester</td>\n",
       "      <td>Western</td>\n",
       "      <td>9</td>\n",
       "      <td>(39.30029544, -76.64733662)</td>\n",
       "      <td>27301</td>\n",
       "      <td>221</td>\n",
       "    </tr>\n",
       "    <tr>\n",
       "      <th>21</th>\n",
       "      <td>0118 027 021517</td>\n",
       "      <td>0118</td>\n",
       "      <td>027</td>\n",
       "      <td>2039 EDMONDSON AVE</td>\n",
       "      <td>02/15/2017</td>\n",
       "      <td>Midtown-Edmondson</td>\n",
       "      <td>Western</td>\n",
       "      <td>9</td>\n",
       "      <td>(39.29485645, -76.65019705)</td>\n",
       "      <td>27632</td>\n",
       "      <td>153</td>\n",
       "    </tr>\n",
       "    <tr>\n",
       "      <th>22</th>\n",
       "      <td>0121 027 021017</td>\n",
       "      <td>0121</td>\n",
       "      <td>027</td>\n",
       "      <td>1723 EDMONDSON AVE</td>\n",
       "      <td>02/10/2017</td>\n",
       "      <td>Harlem Park</td>\n",
       "      <td>Western</td>\n",
       "      <td>9</td>\n",
       "      <td>(39.2950079, -76.64491326)</td>\n",
       "      <td>27632</td>\n",
       "      <td>106</td>\n",
       "    </tr>\n",
       "    <tr>\n",
       "      <th>23</th>\n",
       "      <td>0161 081 021517</td>\n",
       "      <td>0161</td>\n",
       "      <td>081</td>\n",
       "      <td>2015 PENROSE AVE</td>\n",
       "      <td>02/15/2017</td>\n",
       "      <td>Penrose/Fayette Street Outreach</td>\n",
       "      <td>Western</td>\n",
       "      <td>9</td>\n",
       "      <td>(39.29100462, -76.64964126)</td>\n",
       "      <td>27632</td>\n",
       "      <td>197</td>\n",
       "    </tr>\n",
       "    <tr>\n",
       "      <th>24</th>\n",
       "      <td>3350J056 080417</td>\n",
       "      <td>3350J</td>\n",
       "      <td>056</td>\n",
       "      <td>2508 LOYOLA NORTHWAY</td>\n",
       "      <td>08/04/2017</td>\n",
       "      <td>Greenspring</td>\n",
       "      <td>Northern</td>\n",
       "      <td>6</td>\n",
       "      <td>(39.34014182, -76.66074971)</td>\n",
       "      <td>27295</td>\n",
       "      <td>96</td>\n",
       "    </tr>\n",
       "    <tr>\n",
       "      <th>25</th>\n",
       "      <td>4131 029C 080917</td>\n",
       "      <td>4131</td>\n",
       "      <td>029C</td>\n",
       "      <td>1545 CARSWELL ST</td>\n",
       "      <td>08/09/2017</td>\n",
       "      <td>Coldstream Homestead Montebello</td>\n",
       "      <td>Notheastern</td>\n",
       "      <td>14</td>\n",
       "      <td>(39.32254459, -76.59572332)</td>\n",
       "      <td>27307</td>\n",
       "      <td>54</td>\n",
       "    </tr>\n",
       "    <tr>\n",
       "      <th>26</th>\n",
       "      <td>4178C017 080617</td>\n",
       "      <td>4178C</td>\n",
       "      <td>017</td>\n",
       "      <td>3232 RAVENWOOD AVE</td>\n",
       "      <td>08/06/2017</td>\n",
       "      <td>Four By Four</td>\n",
       "      <td>Notheastern</td>\n",
       "      <td>13</td>\n",
       "      <td>(39.31547491, -76.57745776)</td>\n",
       "      <td>26956</td>\n",
       "      <td>276</td>\n",
       "    </tr>\n",
       "    <tr>\n",
       "      <th>27</th>\n",
       "      <td>4609 047 080417</td>\n",
       "      <td>4609</td>\n",
       "      <td>047</td>\n",
       "      <td>3617 MANCHESTER AVE</td>\n",
       "      <td>08/04/2017</td>\n",
       "      <td>Central Park Heights</td>\n",
       "      <td>Northwestern</td>\n",
       "      <td>6</td>\n",
       "      <td>(39.34342354, -76.67573569)</td>\n",
       "      <td>27295</td>\n",
       "      <td>43</td>\n",
       "    </tr>\n",
       "    <tr>\n",
       "      <th>28</th>\n",
       "      <td>4626A070 080617</td>\n",
       "      <td>4626A</td>\n",
       "      <td>070</td>\n",
       "      <td>4662 PIMLICO ROAD</td>\n",
       "      <td>08/06/2017</td>\n",
       "      <td>Central Park Heights</td>\n",
       "      <td>Northwestern</td>\n",
       "      <td>6</td>\n",
       "      <td>(39.34443034, -76.66844286)</td>\n",
       "      <td>27295</td>\n",
       "      <td>43</td>\n",
       "    </tr>\n",
       "    <tr>\n",
       "      <th>29</th>\n",
       "      <td>7137 001 080617</td>\n",
       "      <td>7137</td>\n",
       "      <td>001</td>\n",
       "      <td>4201 DORIS AVE</td>\n",
       "      <td>08/06/2017</td>\n",
       "      <td>Brooklyn</td>\n",
       "      <td>Southern</td>\n",
       "      <td>10</td>\n",
       "      <td>(39.22869439, -76.60442525)</td>\n",
       "      <td>27937</td>\n",
       "      <td>26</td>\n",
       "    </tr>\n",
       "    <tr>\n",
       "      <th>30</th>\n",
       "      <td>7492C454 080917</td>\n",
       "      <td>7492C</td>\n",
       "      <td>454</td>\n",
       "      <td>2451 HARRIET AVE</td>\n",
       "      <td>08/09/2017</td>\n",
       "      <td>Lakeland</td>\n",
       "      <td>Southern</td>\n",
       "      <td>10</td>\n",
       "      <td>(39.25591122, -76.6504828)</td>\n",
       "      <td>27953</td>\n",
       "      <td>134</td>\n",
       "    </tr>\n",
       "    <tr>\n",
       "      <th>31</th>\n",
       "      <td>7872A003 080817</td>\n",
       "      <td>7872A</td>\n",
       "      <td>003</td>\n",
       "      <td>2305 WASHINGTON BLVD</td>\n",
       "      <td>08/08/2017</td>\n",
       "      <td>Morrell Park</td>\n",
       "      <td>Southwestern</td>\n",
       "      <td>10</td>\n",
       "      <td>(39.26944468, -76.64891661)</td>\n",
       "      <td>27953</td>\n",
       "      <td>162</td>\n",
       "    </tr>\n",
       "    <tr>\n",
       "      <th>32</th>\n",
       "      <td>8248 003B 080617</td>\n",
       "      <td>8248</td>\n",
       "      <td>003B</td>\n",
       "      <td>3611 MOHAWK AVE</td>\n",
       "      <td>08/06/2017</td>\n",
       "      <td>Howard Park</td>\n",
       "      <td>Northwestern</td>\n",
       "      <td>5</td>\n",
       "      <td>(39.33159109, -76.69201472)</td>\n",
       "      <td>13995</td>\n",
       "      <td>118</td>\n",
       "    </tr>\n",
       "    <tr>\n",
       "      <th>33</th>\n",
       "      <td>7445 034 081518</td>\n",
       "      <td>7445</td>\n",
       "      <td>034</td>\n",
       "      <td>2821 MAISEL ST</td>\n",
       "      <td>08/15/2018</td>\n",
       "      <td>Westport</td>\n",
       "      <td>Southern</td>\n",
       "      <td>10</td>\n",
       "      <td>(39.26142755, -76.63358794)</td>\n",
       "      <td>27953</td>\n",
       "      <td>258</td>\n",
       "    </tr>\n",
       "    <tr>\n",
       "      <th>34</th>\n",
       "      <td>0713 020 020617</td>\n",
       "      <td>0713</td>\n",
       "      <td>020</td>\n",
       "      <td>1613 COLE ST</td>\n",
       "      <td>02/06/2017</td>\n",
       "      <td>New Southwest/Mount Clare</td>\n",
       "      <td>Southern</td>\n",
       "      <td>9</td>\n",
       "      <td>(39.28202256, -76.64257085)</td>\n",
       "      <td>27632</td>\n",
       "      <td>159</td>\n",
       "    </tr>\n",
       "    <tr>\n",
       "      <th>35</th>\n",
       "      <td>1110 019 020317</td>\n",
       "      <td>1110</td>\n",
       "      <td>019</td>\n",
       "      <td>1620 BARCLAY ST</td>\n",
       "      <td>02/03/2017</td>\n",
       "      <td>Greenmount West</td>\n",
       "      <td>Eastern</td>\n",
       "      <td>12</td>\n",
       "      <td>(39.30859148, -76.61103466)</td>\n",
       "      <td>13645</td>\n",
       "      <td>95</td>\n",
       "    </tr>\n",
       "    <tr>\n",
       "      <th>36</th>\n",
       "      <td>1116 064 020817</td>\n",
       "      <td>1116</td>\n",
       "      <td>064</td>\n",
       "      <td>1643 N SPRING ST</td>\n",
       "      <td>02/08/2017</td>\n",
       "      <td>Oliver</td>\n",
       "      <td>Eastern</td>\n",
       "      <td>12</td>\n",
       "      <td>(39.30923987, -76.59887925)</td>\n",
       "      <td>26956</td>\n",
       "      <td>180</td>\n",
       "    </tr>\n",
       "    <tr>\n",
       "      <th>37</th>\n",
       "      <td>0110 050 081117</td>\n",
       "      <td>0110</td>\n",
       "      <td>050</td>\n",
       "      <td>1612 EDMONDSON AVE</td>\n",
       "      <td>08/11/2017</td>\n",
       "      <td>Harlem Park</td>\n",
       "      <td>Western</td>\n",
       "      <td>9</td>\n",
       "      <td>(39.29555941, -76.64360011)</td>\n",
       "      <td>27301</td>\n",
       "      <td>106</td>\n",
       "    </tr>\n",
       "    <tr>\n",
       "      <th>38</th>\n",
       "      <td>0276 015 081017</td>\n",
       "      <td>0276</td>\n",
       "      <td>015</td>\n",
       "      <td>309 S FULTON AVE</td>\n",
       "      <td>08/10/2017</td>\n",
       "      <td>New Southwest/Mount Clare</td>\n",
       "      <td>Southern</td>\n",
       "      <td>9</td>\n",
       "      <td>(39.28406412, -76.64473089)</td>\n",
       "      <td>27632</td>\n",
       "      <td>159</td>\n",
       "    </tr>\n",
       "    <tr>\n",
       "      <th>39</th>\n",
       "      <td>0340 041 081417</td>\n",
       "      <td>0340</td>\n",
       "      <td>041</td>\n",
       "      <td>1703 DRUID HILL AVE</td>\n",
       "      <td>08/14/2017</td>\n",
       "      <td>Upton</td>\n",
       "      <td>Central</td>\n",
       "      <td>11</td>\n",
       "      <td>(39.30536623, -76.63241131)</td>\n",
       "      <td>27301</td>\n",
       "      <td>242</td>\n",
       "    </tr>\n",
       "    <tr>\n",
       "      <th>40</th>\n",
       "      <td>0004 010 081218</td>\n",
       "      <td>0004</td>\n",
       "      <td>010</td>\n",
       "      <td>1819 N FULTON AVE</td>\n",
       "      <td>08/12/2018</td>\n",
       "      <td>Sandtown-Winchester</td>\n",
       "      <td>Western</td>\n",
       "      <td>7</td>\n",
       "      <td>(39.30934063, -76.64595953)</td>\n",
       "      <td>27301</td>\n",
       "      <td>221</td>\n",
       "    </tr>\n",
       "    <tr>\n",
       "      <th>41</th>\n",
       "      <td>1111 030 081117</td>\n",
       "      <td>1111</td>\n",
       "      <td>030</td>\n",
       "      <td>458 E FEDERAL ST</td>\n",
       "      <td>08/11/2017</td>\n",
       "      <td>Greenmount West</td>\n",
       "      <td>Eastern</td>\n",
       "      <td>12</td>\n",
       "      <td>(39.30813785, -76.60924532)</td>\n",
       "      <td>13645</td>\n",
       "      <td>95</td>\n",
       "    </tr>\n",
       "    <tr>\n",
       "      <th>42</th>\n",
       "      <td>1111 031 081517</td>\n",
       "      <td>1111</td>\n",
       "      <td>031</td>\n",
       "      <td>460 E FEDERAL ST</td>\n",
       "      <td>08/15/2017</td>\n",
       "      <td>Greenmount West</td>\n",
       "      <td>Eastern</td>\n",
       "      <td>12</td>\n",
       "      <td>(39.30813947, -76.60920455)</td>\n",
       "      <td>13645</td>\n",
       "      <td>95</td>\n",
       "    </tr>\n",
       "    <tr>\n",
       "      <th>43</th>\n",
       "      <td>1138 110 081317</td>\n",
       "      <td>1138</td>\n",
       "      <td>110</td>\n",
       "      <td>1416 N BETHEL ST</td>\n",
       "      <td>08/13/2017</td>\n",
       "      <td>Oliver</td>\n",
       "      <td>Eastern</td>\n",
       "      <td>12</td>\n",
       "      <td>(39.30681666, -76.59618955)</td>\n",
       "      <td>26956</td>\n",
       "      <td>180</td>\n",
       "    </tr>\n",
       "    <tr>\n",
       "      <th>44</th>\n",
       "      <td>1144 046 081317</td>\n",
       "      <td>1144</td>\n",
       "      <td>046</td>\n",
       "      <td>1304 ENSOR ST</td>\n",
       "      <td>08/13/2017</td>\n",
       "      <td>Johnston Square</td>\n",
       "      <td>Eastern</td>\n",
       "      <td>12</td>\n",
       "      <td>(39.30535139, -76.60390859)</td>\n",
       "      <td>13645</td>\n",
       "      <td>124</td>\n",
       "    </tr>\n",
       "    <tr>\n",
       "      <th>45</th>\n",
       "      <td>1459 065 081017</td>\n",
       "      <td>1459</td>\n",
       "      <td>065</td>\n",
       "      <td>1722 N CASTLE ST</td>\n",
       "      <td>08/10/2017</td>\n",
       "      <td>Broadway East</td>\n",
       "      <td>Eastern</td>\n",
       "      <td>12</td>\n",
       "      <td>(39.31050696, -76.58959609)</td>\n",
       "      <td>26956</td>\n",
       "      <td>23</td>\n",
       "    </tr>\n",
       "    <tr>\n",
       "      <th>46</th>\n",
       "      <td>1536 006 081317</td>\n",
       "      <td>1536</td>\n",
       "      <td>006</td>\n",
       "      <td>2311 E PRESTON ST</td>\n",
       "      <td>08/13/2017</td>\n",
       "      <td>Broadway East</td>\n",
       "      <td>Eastern</td>\n",
       "      <td>13</td>\n",
       "      <td>(39.30556043, -76.5846945)</td>\n",
       "      <td>26956</td>\n",
       "      <td>23</td>\n",
       "    </tr>\n",
       "    <tr>\n",
       "      <th>47</th>\n",
       "      <td>1540 091 081017</td>\n",
       "      <td>1540</td>\n",
       "      <td>091</td>\n",
       "      <td>2736 MURA ST</td>\n",
       "      <td>08/10/2017</td>\n",
       "      <td>Berea</td>\n",
       "      <td>Eastern</td>\n",
       "      <td>13</td>\n",
       "      <td>(39.30557378, -76.57882531)</td>\n",
       "      <td>26956</td>\n",
       "      <td>15</td>\n",
       "    </tr>\n",
       "    <tr>\n",
       "      <th>48</th>\n",
       "      <td>1543 025 081117</td>\n",
       "      <td>1543</td>\n",
       "      <td>025</td>\n",
       "      <td>1234 N DECKER AVE</td>\n",
       "      <td>08/11/2017</td>\n",
       "      <td>Berea</td>\n",
       "      <td>Eastern</td>\n",
       "      <td>13</td>\n",
       "      <td>(39.30587553, -76.57514723)</td>\n",
       "      <td>26956</td>\n",
       "      <td>15</td>\n",
       "    </tr>\n",
       "    <tr>\n",
       "      <th>49</th>\n",
       "      <td>0185 063 081418</td>\n",
       "      <td>0185</td>\n",
       "      <td>063</td>\n",
       "      <td>1113 W LEXINGTON ST</td>\n",
       "      <td>08/14/2018</td>\n",
       "      <td>Poppleton</td>\n",
       "      <td>Western</td>\n",
       "      <td>9</td>\n",
       "      <td>(39.29074563, -76.63655489)</td>\n",
       "      <td>27632</td>\n",
       "      <td>201</td>\n",
       "    </tr>\n",
       "  </tbody>\n",
       "</table>\n",
       "</div>"
      ],
      "text/plain": [
       "         ReferenceID  Block   Lot        BuildingAddress  NoticeDate  \\\n",
       "0    0005 048 080617   0005   048      1612 WESTWOOD AVE  08/06/2017   \n",
       "1    0010 010 080617   0010   010      1720 N CALHOUN ST  08/06/2017   \n",
       "2    0012 029 080917   0012   029       1630 APPLETON ST  08/09/2017   \n",
       "3    0021 075 080617   0021   075      1710 PRESSTMAN ST  08/06/2017   \n",
       "4    0074 027 080617   0074   027        934 N GILMOR ST  08/06/2017   \n",
       "5    0096 085 080417   0096   085        1827 RAYNER AVE  08/04/2017   \n",
       "6    0696 048 080617   0696   048      527 S BENTALOU ST  08/06/2017   \n",
       "7    0696 058 080617   0696   058      507 S BENTALOU ST  08/06/2017   \n",
       "8    1107 028 080617   1107   028     1728 N CAROLINE ST  08/06/2017   \n",
       "9    1169 053 080617   1169   053    1113 GREENMOUNT AVE  08/06/2017   \n",
       "10   1573 031 080617   1573   031        2513 E CHASE ST  08/06/2017   \n",
       "11   1646 051 080817   1646   051       627 N DECKER AVE  08/08/2017   \n",
       "12   1658 080 080617   1658   080      519 N BELNORD AVE  08/06/2017   \n",
       "13   2138 037 080917   2138   037         2692 DULANY ST  08/09/2017   \n",
       "14   2183A014 080917  2183A   014         306 STINSON ST  08/09/2017   \n",
       "15   2377A050 080417  2377A   050        2840 HARLEM AVE  08/04/2017   \n",
       "16   3004 041 080417   3004   041      2943 WALBROOK AVE  08/04/2017   \n",
       "17   3100E018 080617  3100E   018       3134 SEQUOIA AVE  08/06/2017   \n",
       "18   3185A017 080817  3185A   017       2819 BOARMAN AVE  08/08/2017   \n",
       "19   0055C006 020817  0055C   006        1111 N CAREY ST  02/08/2017   \n",
       "20   0059 043 021417   0059   043       1007 N MONROE ST  02/14/2017   \n",
       "21   0118 027 021517   0118   027     2039 EDMONDSON AVE  02/15/2017   \n",
       "22   0121 027 021017   0121   027     1723 EDMONDSON AVE  02/10/2017   \n",
       "23   0161 081 021517   0161   081       2015 PENROSE AVE  02/15/2017   \n",
       "24   3350J056 080417  3350J   056  2508 LOYOLA NORTHWAY   08/04/2017   \n",
       "25  4131 029C 080917   4131  029C       1545 CARSWELL ST  08/09/2017   \n",
       "26   4178C017 080617  4178C   017     3232 RAVENWOOD AVE  08/06/2017   \n",
       "27   4609 047 080417   4609   047    3617 MANCHESTER AVE  08/04/2017   \n",
       "28   4626A070 080617  4626A   070      4662 PIMLICO ROAD  08/06/2017   \n",
       "29   7137 001 080617   7137   001         4201 DORIS AVE  08/06/2017   \n",
       "30   7492C454 080917  7492C   454       2451 HARRIET AVE  08/09/2017   \n",
       "31   7872A003 080817  7872A   003   2305 WASHINGTON BLVD  08/08/2017   \n",
       "32  8248 003B 080617   8248  003B        3611 MOHAWK AVE  08/06/2017   \n",
       "33   7445 034 081518   7445   034         2821 MAISEL ST  08/15/2018   \n",
       "34   0713 020 020617   0713   020           1613 COLE ST  02/06/2017   \n",
       "35   1110 019 020317   1110   019        1620 BARCLAY ST  02/03/2017   \n",
       "36   1116 064 020817   1116   064       1643 N SPRING ST  02/08/2017   \n",
       "37   0110 050 081117   0110   050     1612 EDMONDSON AVE  08/11/2017   \n",
       "38   0276 015 081017   0276   015       309 S FULTON AVE  08/10/2017   \n",
       "39   0340 041 081417   0340   041    1703 DRUID HILL AVE  08/14/2017   \n",
       "40   0004 010 081218   0004   010      1819 N FULTON AVE  08/12/2018   \n",
       "41   1111 030 081117   1111   030       458 E FEDERAL ST  08/11/2017   \n",
       "42   1111 031 081517   1111   031       460 E FEDERAL ST  08/15/2017   \n",
       "43   1138 110 081317   1138   110       1416 N BETHEL ST  08/13/2017   \n",
       "44   1144 046 081317   1144   046          1304 ENSOR ST  08/13/2017   \n",
       "45   1459 065 081017   1459   065       1722 N CASTLE ST  08/10/2017   \n",
       "46   1536 006 081317   1536   006      2311 E PRESTON ST  08/13/2017   \n",
       "47   1540 091 081017   1540   091           2736 MURA ST  08/10/2017   \n",
       "48   1543 025 081117   1543   025      1234 N DECKER AVE  08/11/2017   \n",
       "49   0185 063 081418   0185   063    1113 W LEXINGTON ST  08/14/2018   \n",
       "\n",
       "                       Neighborhood PoliceDistrict  CouncilDistrict  \\\n",
       "0               Sandtown-Winchester        Western                7   \n",
       "1               Sandtown-Winchester        Western                7   \n",
       "2                        Easterwood        Western                7   \n",
       "3               Sandtown-Winchester        Western                7   \n",
       "4               Sandtown-Winchester        Western                9   \n",
       "5                       Harlem Park        Western                9   \n",
       "6                  Carrollton Ridge   Southwestern                9   \n",
       "7                  Carrollton Ridge   Southwestern                9   \n",
       "8                            Oliver        Eastern               12   \n",
       "9                   Johnston Square        Eastern               12   \n",
       "10                    Biddle Street        Eastern               13   \n",
       "11            Ellwood Park/Monument   Southeastern               13   \n",
       "12                   McElderry Park   Southeastern               13   \n",
       "13                         Millhill   Southwestern                9   \n",
       "14                     Shipley Hill   Southwestern                9   \n",
       "15                           Mosher        Western                9   \n",
       "16                         Walbrook   Southwestern                7   \n",
       "17                   East Arlington   Northwestern                7   \n",
       "18                 Towanda-Grantley   Northwestern                6   \n",
       "19              Sandtown-Winchester        Western                9   \n",
       "20              Sandtown-Winchester        Western                9   \n",
       "21                Midtown-Edmondson        Western                9   \n",
       "22                      Harlem Park        Western                9   \n",
       "23  Penrose/Fayette Street Outreach        Western                9   \n",
       "24                      Greenspring       Northern                6   \n",
       "25  Coldstream Homestead Montebello    Notheastern               14   \n",
       "26                     Four By Four    Notheastern               13   \n",
       "27             Central Park Heights   Northwestern                6   \n",
       "28             Central Park Heights   Northwestern                6   \n",
       "29                         Brooklyn       Southern               10   \n",
       "30                         Lakeland       Southern               10   \n",
       "31                     Morrell Park   Southwestern               10   \n",
       "32                      Howard Park   Northwestern                5   \n",
       "33                         Westport       Southern               10   \n",
       "34        New Southwest/Mount Clare       Southern                9   \n",
       "35                  Greenmount West        Eastern               12   \n",
       "36                           Oliver        Eastern               12   \n",
       "37                      Harlem Park        Western                9   \n",
       "38        New Southwest/Mount Clare       Southern                9   \n",
       "39                            Upton        Central               11   \n",
       "40              Sandtown-Winchester        Western                7   \n",
       "41                  Greenmount West        Eastern               12   \n",
       "42                  Greenmount West        Eastern               12   \n",
       "43                           Oliver        Eastern               12   \n",
       "44                  Johnston Square        Eastern               12   \n",
       "45                    Broadway East        Eastern               12   \n",
       "46                    Broadway East        Eastern               13   \n",
       "47                            Berea        Eastern               13   \n",
       "48                            Berea        Eastern               13   \n",
       "49                        Poppleton        Western                9   \n",
       "\n",
       "                       Location  Zip Codes  2010 Census Neighborhoods  \n",
       "0   (39.30942566, -76.64407735)      27301                        221  \n",
       "1   (39.30832648, -76.64425597)      27301                        221  \n",
       "2   (39.30725339, -76.64913999)      27301                         74  \n",
       "3   (39.30553542, -76.64512031)      27301                        221  \n",
       "4   (39.29969704, -76.64324911)      27301                        221  \n",
       "5    (39.29682925, -76.6469342)      27301                        106  \n",
       "6    (39.2808626, -76.65194848)      27632                         36  \n",
       "7   (39.28131308, -76.65219815)      27632                         36  \n",
       "8   (39.31035125, -76.59863589)      26956                        180  \n",
       "9   (39.30322012, -76.60752633)      13645                        124  \n",
       "10  (39.30353699, -76.58174293)      13987                         19  \n",
       "11  (39.29883497, -76.57427464)      13987                         78  \n",
       "12  (39.29750187, -76.57848448)      13987                        141  \n",
       "13  (39.27945061, -76.65878091)      27632                        154  \n",
       "14  (39.28377301, -76.65891745)      27632                        225  \n",
       "15  (39.29567014, -76.66406162)      27297                        163  \n",
       "16  (39.30997586, -76.66702749)      27297                        246  \n",
       "17   (39.32839271, -76.6665682)      27295                         72  \n",
       "18  (39.33753277, -76.66821989)      27295                        232  \n",
       "19  (39.30148939, -76.63858866)      27301                        221  \n",
       "20  (39.30029544, -76.64733662)      27301                        221  \n",
       "21  (39.29485645, -76.65019705)      27632                        153  \n",
       "22   (39.2950079, -76.64491326)      27632                        106  \n",
       "23  (39.29100462, -76.64964126)      27632                        197  \n",
       "24  (39.34014182, -76.66074971)      27295                         96  \n",
       "25  (39.32254459, -76.59572332)      27307                         54  \n",
       "26  (39.31547491, -76.57745776)      26956                        276  \n",
       "27  (39.34342354, -76.67573569)      27295                         43  \n",
       "28  (39.34443034, -76.66844286)      27295                         43  \n",
       "29  (39.22869439, -76.60442525)      27937                         26  \n",
       "30   (39.25591122, -76.6504828)      27953                        134  \n",
       "31  (39.26944468, -76.64891661)      27953                        162  \n",
       "32  (39.33159109, -76.69201472)      13995                        118  \n",
       "33  (39.26142755, -76.63358794)      27953                        258  \n",
       "34  (39.28202256, -76.64257085)      27632                        159  \n",
       "35  (39.30859148, -76.61103466)      13645                         95  \n",
       "36  (39.30923987, -76.59887925)      26956                        180  \n",
       "37  (39.29555941, -76.64360011)      27301                        106  \n",
       "38  (39.28406412, -76.64473089)      27632                        159  \n",
       "39  (39.30536623, -76.63241131)      27301                        242  \n",
       "40  (39.30934063, -76.64595953)      27301                        221  \n",
       "41  (39.30813785, -76.60924532)      13645                         95  \n",
       "42  (39.30813947, -76.60920455)      13645                         95  \n",
       "43  (39.30681666, -76.59618955)      26956                        180  \n",
       "44  (39.30535139, -76.60390859)      13645                        124  \n",
       "45  (39.31050696, -76.58959609)      26956                         23  \n",
       "46   (39.30556043, -76.5846945)      26956                         23  \n",
       "47  (39.30557378, -76.57882531)      26956                         15  \n",
       "48  (39.30587553, -76.57514723)      26956                         15  \n",
       "49  (39.29074563, -76.63655489)      27632                        201  "
      ]
     },
     "execution_count": 6,
     "metadata": {},
     "output_type": "execute_result"
    }
   ],
   "source": [
    "vacBuil.head(50)"
   ]
  },
  {
   "cell_type": "code",
   "execution_count": 7,
   "metadata": {},
   "outputs": [],
   "source": [
    "vacBuil['PoliceDistrict'] = vacBuil['PoliceDistrict'].replace(['Western'],['WESTERN'])\n",
    "vacBuil['PoliceDistrict'] = vacBuil['PoliceDistrict'].replace(['Eastern'],['EASTERN'])\n",
    "vacBuil['PoliceDistrict'] = vacBuil['PoliceDistrict'].replace(['Southern'],['SOUTHERN'])\n",
    "vacBuil['PoliceDistrict'] = vacBuil['PoliceDistrict'].replace(['Southwestern'],['SOUTHWESTERN'])\n",
    "vacBuil['PoliceDistrict'] = vacBuil['PoliceDistrict'].replace(['Northern'],['NORTHERN'])\n",
    "vacBuil['PoliceDistrict'] = vacBuil['PoliceDistrict'].replace(['Southeastern'],['SOUTHEASTERN'])\n",
    "vacBuil['PoliceDistrict'] = vacBuil['PoliceDistrict'].replace(['Central'],['CENTRAL'])\n",
    "vacBuil['PoliceDistrict'] = vacBuil['PoliceDistrict'].replace(['Northeastern'],['NORTHEASTERN'])\n",
    "vacBuil['PoliceDistrict'] = vacBuil['PoliceDistrict'].replace(['Notheastern'], ['NORTHEASTERN'])\n",
    "vacBuil['PoliceDistrict'] = vacBuil['PoliceDistrict'].replace(['Northwestern'],['NORTHWESTERN'])"
   ]
  },
  {
   "cell_type": "code",
   "execution_count": 8,
   "metadata": {},
   "outputs": [
    {
     "data": {
      "text/plain": [
       "<matplotlib.axes._subplots.AxesSubplot at 0x1b85920518>"
      ]
     },
     "execution_count": 8,
     "metadata": {},
     "output_type": "execute_result"
    },
    {
     "data": {
      "image/png": "[encoded data removed]",
      "text/plain": [
       "<Figure size 432x288 with 1 Axes>"
      ]
     },
     "metadata": {
      "needs_background": "light"
     },
     "output_type": "display_data"
    }
   ],
   "source": [
    "vacBuil['PoliceDistrict'].value_counts().plot(kind='bar', title='Vacancies per District', grid=True)"
   ]
  },
  {
   "cell_type": "code",
   "execution_count": 9,
   "metadata": {},
   "outputs": [
    {
     "data": {
      "text/plain": [
       "<matplotlib.axes._subplots.AxesSubplot at 0x1b84c6bf28>"
      ]
     },
     "execution_count": 9,
     "metadata": {},
     "output_type": "execute_result"
    },
    {
     "data": {
      "image/png": "[encoded data removed]",
      "text/plain": [
       "<Figure size 432x288 with 1 Axes>"
      ]
     },
     "metadata": {
      "needs_background": "light"
     },
     "output_type": "display_data"
    }
   ],
   "source": [
    "crime['District'].value_counts().plot(kind='bar', title='Crime per District', grid=True)"
   ]
  },
  {
   "cell_type": "markdown",
   "metadata": {},
   "source": [
    "##### Lookking through the data, we want to only keep 'PRINCIPAL RESIDENCE' ResCode\n",
    "##### We also dont need to have any of the follwing attributes:'AmountDue', 'AsOfDate'."
   ]
  },
  {
   "cell_type": "code",
   "execution_count": 10,
   "metadata": {},
   "outputs": [
    {
     "data": {
      "text/plain": [
       "array(['Southern', 'Western', 'Notheastern', 'Northwestern', nan,\n",
       "       'Southeastern', 'Southwestern', 'Central', 'Eastern', 'Northern'],\n",
       "      dtype=object)"
      ]
     },
     "execution_count": 10,
     "metadata": {},
     "output_type": "execute_result"
    }
   ],
   "source": [
    "propTaxes['PoliceDistrict'].unique()"
   ]
  },
  {
   "cell_type": "code",
   "execution_count": 11,
   "metadata": {},
   "outputs": [],
   "source": [
    "southern = propTaxes[propTaxes['PoliceDistrict'] == 'Southern' ]\n",
    "northern = propTaxes[propTaxes['PoliceDistrict'] == 'Northern']\n",
    "eastern = propTaxes[propTaxes['PoliceDistrict'] == 'Eastern']\n",
    "western = propTaxes[propTaxes['PoliceDistrict'] == 'Western']\n",
    "northeastern = propTaxes[propTaxes['PoliceDistrict'] == 'Notheastern']\n",
    "northwestern = propTaxes[propTaxes['PoliceDistrict'] == 'Northwestern']\n",
    "southeastern = propTaxes[propTaxes['PoliceDistrict'] == 'Southeastern']\n",
    "southwestern = propTaxes[propTaxes['PoliceDistrict'] == 'Southwestern']\n",
    "central = propTaxes[propTaxes['PoliceDistrict'] == 'Central']"
   ]
  },
  {
   "cell_type": "code",
   "execution_count": 12,
   "metadata": {},
   "outputs": [
    {
     "data": {
      "text/plain": [
       "(25253, 16)"
      ]
     },
     "execution_count": 12,
     "metadata": {},
     "output_type": "execute_result"
    }
   ],
   "source": [
    "southern.shape"
   ]
  },
  {
   "cell_type": "code",
   "execution_count": 13,
   "metadata": {},
   "outputs": [
    {
     "data": {
      "text/plain": [
       "array(['PRINCIPAL RESIDENCE      '], dtype=object)"
      ]
     },
     "execution_count": 13,
     "metadata": {},
     "output_type": "execute_result"
    }
   ],
   "source": [
    "southern = southern.drop_duplicates()\n",
    "southern = southern[southern['ResCode'] != 'NOT A PRINCIPAL RESIDENCE']\n",
    "southern['ResCode'].unique()"
   ]
  },
  {
   "cell_type": "code",
   "execution_count": 14,
   "metadata": {},
   "outputs": [
    {
     "data": {
      "text/plain": [
       "array(['PRINCIPAL RESIDENCE      '], dtype=object)"
      ]
     },
     "execution_count": 14,
     "metadata": {},
     "output_type": "execute_result"
    }
   ],
   "source": [
    "northern = northern.drop_duplicates()\n",
    "northern = northern[northern['ResCode'] != 'NOT A PRINCIPAL RESIDENCE']\n",
    "northern['ResCode'].unique()"
   ]
  },
  {
   "cell_type": "code",
   "execution_count": 15,
   "metadata": {},
   "outputs": [
    {
     "data": {
      "text/plain": [
       "array(['PRINCIPAL RESIDENCE      '], dtype=object)"
      ]
     },
     "execution_count": 15,
     "metadata": {},
     "output_type": "execute_result"
    }
   ],
   "source": [
    "eastern = eastern.drop_duplicates()\n",
    "eastern = eastern[eastern['ResCode'] != 'NOT A PRINCIPAL RESIDENCE']\n",
    "eastern['ResCode'].unique()"
   ]
  },
  {
   "cell_type": "code",
   "execution_count": 16,
   "metadata": {},
   "outputs": [
    {
     "data": {
      "text/plain": [
       "array(['PRINCIPAL RESIDENCE      '], dtype=object)"
      ]
     },
     "execution_count": 16,
     "metadata": {},
     "output_type": "execute_result"
    }
   ],
   "source": [
    "western = western.drop_duplicates()\n",
    "western = western[western['ResCode'] != 'NOT A PRINCIPAL RESIDENCE']\n",
    "western['ResCode'].unique()"
   ]
  },
  {
   "cell_type": "code",
   "execution_count": 17,
   "metadata": {},
   "outputs": [
    {
     "data": {
      "text/plain": [
       "array(['PRINCIPAL RESIDENCE      '], dtype=object)"
      ]
     },
     "execution_count": 17,
     "metadata": {},
     "output_type": "execute_result"
    }
   ],
   "source": [
    "central = central.drop_duplicates()\n",
    "central = central[central['ResCode'] != 'NOT A PRINCIPAL RESIDENCE']\n",
    "central['ResCode'].unique()"
   ]
  },
  {
   "cell_type": "code",
   "execution_count": 18,
   "metadata": {},
   "outputs": [
    {
     "data": {
      "text/plain": [
       "array(['PRINCIPAL RESIDENCE      '], dtype=object)"
      ]
     },
     "execution_count": 18,
     "metadata": {},
     "output_type": "execute_result"
    }
   ],
   "source": [
    "southeastern = southeastern.drop_duplicates()\n",
    "southeastern = southeastern[southeastern['ResCode'] != 'NOT A PRINCIPAL RESIDENCE']\n",
    "southeastern['ResCode'].unique()"
   ]
  },
  {
   "cell_type": "code",
   "execution_count": 19,
   "metadata": {},
   "outputs": [
    {
     "data": {
      "text/plain": [
       "array(['PRINCIPAL RESIDENCE      '], dtype=object)"
      ]
     },
     "execution_count": 19,
     "metadata": {},
     "output_type": "execute_result"
    }
   ],
   "source": [
    "southwestern = southwestern.drop_duplicates()\n",
    "southwestern = southwestern[southwestern['ResCode'] != 'NOT A PRINCIPAL RESIDENCE']\n",
    "southwestern['ResCode'].unique()"
   ]
  },
  {
   "cell_type": "code",
   "execution_count": 20,
   "metadata": {},
   "outputs": [
    {
     "data": {
      "text/plain": [
       "array(['PRINCIPAL RESIDENCE      '], dtype=object)"
      ]
     },
     "execution_count": 20,
     "metadata": {},
     "output_type": "execute_result"
    }
   ],
   "source": [
    "northwestern = northwestern.drop_duplicates()\n",
    "northwestern = northwestern[northwestern['ResCode'] != 'NOT A PRINCIPAL RESIDENCE']\n",
    "northwestern['ResCode'].unique()"
   ]
  },
  {
   "cell_type": "code",
   "execution_count": 21,
   "metadata": {},
   "outputs": [
    {
     "data": {
      "text/plain": [
       "array(['PRINCIPAL RESIDENCE      '], dtype=object)"
      ]
     },
     "execution_count": 21,
     "metadata": {},
     "output_type": "execute_result"
    }
   ],
   "source": [
    "northeastern = northeastern.drop_duplicates()\n",
    "northeastern = northeastern[northeastern['ResCode'] != 'NOT A PRINCIPAL RESIDENCE']\n",
    "northeastern['ResCode'].unique()"
   ]
  },
  {
   "cell_type": "code",
   "execution_count": 22,
   "metadata": {},
   "outputs": [],
   "source": [
    "southMean = southern['CityTax'].mean() + southern['StateTax'].mean()\n",
    "southEastMean = southeastern['CityTax'].mean() + southeastern['StateTax'].mean()\n",
    "southWestMean = southwestern['CityTax'].mean() + southwestern['StateTax'].mean()\n",
    "northMean = northern['CityTax'].mean() + northern['StateTax'].mean()\n",
    "northEastMean = northeastern['CityTax'].mean() + northeastern['StateTax'].mean()\n",
    "northWestMean = northwestern['CityTax'].mean() + northwestern['StateTax'].mean()\n",
    "eastMean = eastern['CityTax'].mean() + eastern['StateTax'].mean()\n",
    "westMean = western ['CityTax'].mean() + western ['StateTax'].mean()\n",
    "centMean = central['CityTax'].mean() + central['StateTax'].mean()"
   ]
  },
  {
   "cell_type": "code",
   "execution_count": 23,
   "metadata": {},
   "outputs": [],
   "source": [
    "d = {'PoliceDistrict': ['South', 'Southeastern', 'Southwestern', 'Northern', 'Northeastern', 'Northwestern', 'Eastern', 'western', 'Central'],'Mean': [southMean, southEastMean,southWestMean,northMean,northEastMean,northWestMean,eastMean,westMean,centMean]}"
   ]
  },
  {
   "cell_type": "code",
   "execution_count": 24,
   "metadata": {},
   "outputs": [],
   "source": [
    "avgs = pd.DataFrame(data=d)"
   ]
  },
  {
   "cell_type": "code",
   "execution_count": 25,
   "metadata": {},
   "outputs": [],
   "source": [
    "avgs = avgs.sort_values(by='Mean',ascending = False)"
   ]
  },
  {
   "cell_type": "code",
   "execution_count": 26,
   "metadata": {},
   "outputs": [
    {
     "data": {
      "text/plain": [
       "<matplotlib.axes._subplots.AxesSubplot at 0x1b84d80eb8>"
      ]
     },
     "execution_count": 26,
     "metadata": {},
     "output_type": "execute_result"
    },
    {
     "data": {
      "image/png": "[encoded data removed]",
      "text/plain": [
       "<Figure size 432x288 with 1 Axes>"
      ]
     },
     "metadata": {
      "needs_background": "light"
     },
     "output_type": "display_data"
    }
   ],
   "source": [
    "avgs.plot(kind='bar', title='Average Property Tax', grid=True, x='PoliceDistrict', y='Mean' )"
   ]
  },
  {
   "cell_type": "markdown",
   "metadata": {},
   "source": [
    "-----------------------------------------------\n",
    "This section corresponds to 2B on the report."
   ]
  },
  {
   "cell_type": "code",
   "execution_count": 27,
   "metadata": {},
   "outputs": [
    {
     "data": {
      "text/html": [
       "<div>\n",
       "<style scoped>\n",
       "    .dataframe tbody tr th:only-of-type {\n",
       "        vertical-align: middle;\n",
       "    }\n",
       "\n",
       "    .dataframe tbody tr th {\n",
       "        vertical-align: top;\n",
       "    }\n",
       "\n",
       "    .dataframe thead th {\n",
       "        text-align: right;\n",
       "    }\n",
       "</style>\n",
       "<table border=\"1\" class=\"dataframe\">\n",
       "  <thead>\n",
       "    <tr style=\"text-align: right;\">\n",
       "      <th></th>\n",
       "      <th>Region</th>\n",
       "      <th>Avg. Property Tax</th>\n",
       "      <th>Crime Incidents</th>\n",
       "      <th>No. of Larceny</th>\n",
       "      <th>Recorded No. of Shootings</th>\n",
       "      <th>Vacant Prprty Count</th>\n",
       "    </tr>\n",
       "  </thead>\n",
       "  <tbody>\n",
       "    <tr>\n",
       "      <th>0</th>\n",
       "      <td>Southern</td>\n",
       "      <td>4578.590584</td>\n",
       "      <td>29363</td>\n",
       "      <td>6595</td>\n",
       "      <td>340</td>\n",
       "      <td>1713</td>\n",
       "    </tr>\n",
       "    <tr>\n",
       "      <th>1</th>\n",
       "      <td>Southeastern</td>\n",
       "      <td>4843.351145</td>\n",
       "      <td>36675</td>\n",
       "      <td>9108</td>\n",
       "      <td>173</td>\n",
       "      <td>701</td>\n",
       "    </tr>\n",
       "    <tr>\n",
       "      <th>2</th>\n",
       "      <td>Southwestern</td>\n",
       "      <td>2239.378969</td>\n",
       "      <td>25691</td>\n",
       "      <td>5105</td>\n",
       "      <td>408</td>\n",
       "      <td>2304</td>\n",
       "    </tr>\n",
       "    <tr>\n",
       "      <th>3</th>\n",
       "      <td>Northern</td>\n",
       "      <td>5472.633669</td>\n",
       "      <td>28527</td>\n",
       "      <td>6966</td>\n",
       "      <td>198</td>\n",
       "      <td>733</td>\n",
       "    </tr>\n",
       "    <tr>\n",
       "      <th>4</th>\n",
       "      <td>Northwestern</td>\n",
       "      <td>3439.913550</td>\n",
       "      <td>25200</td>\n",
       "      <td>5348</td>\n",
       "      <td>331</td>\n",
       "      <td>1579</td>\n",
       "    </tr>\n",
       "    <tr>\n",
       "      <th>5</th>\n",
       "      <td>Northeastern</td>\n",
       "      <td>2951.823197</td>\n",
       "      <td>38634</td>\n",
       "      <td>7881</td>\n",
       "      <td>309</td>\n",
       "      <td>961</td>\n",
       "    </tr>\n",
       "    <tr>\n",
       "      <th>6</th>\n",
       "      <td>Eastern</td>\n",
       "      <td>1276.372075</td>\n",
       "      <td>22084</td>\n",
       "      <td>4205</td>\n",
       "      <td>427</td>\n",
       "      <td>3652</td>\n",
       "    </tr>\n",
       "    <tr>\n",
       "      <th>7</th>\n",
       "      <td>Western</td>\n",
       "      <td>1035.716502</td>\n",
       "      <td>20175</td>\n",
       "      <td>3664</td>\n",
       "      <td>500</td>\n",
       "      <td>4253</td>\n",
       "    </tr>\n",
       "    <tr>\n",
       "      <th>8</th>\n",
       "      <td>Central</td>\n",
       "      <td>5038.048845</td>\n",
       "      <td>28612</td>\n",
       "      <td>8079</td>\n",
       "      <td>192</td>\n",
       "      <td>866</td>\n",
       "    </tr>\n",
       "  </tbody>\n",
       "</table>\n",
       "</div>"
      ],
      "text/plain": [
       "         Region  Avg. Property Tax  Crime Incidents  No. of Larceny  \\\n",
       "0      Southern        4578.590584            29363            6595   \n",
       "1  Southeastern        4843.351145            36675            9108   \n",
       "2  Southwestern        2239.378969            25691            5105   \n",
       "3      Northern        5472.633669            28527            6966   \n",
       "4  Northwestern        3439.913550            25200            5348   \n",
       "5  Northeastern        2951.823197            38634            7881   \n",
       "6       Eastern        1276.372075            22084            4205   \n",
       "7       Western        1035.716502            20175            3664   \n",
       "8       Central        5038.048845            28612            8079   \n",
       "\n",
       "   Recorded No. of Shootings  Vacant Prprty Count  \n",
       "0                        340                 1713  \n",
       "1                        173                  701  \n",
       "2                        408                 2304  \n",
       "3                        198                  733  \n",
       "4                        331                 1579  \n",
       "5                        309                  961  \n",
       "6                        427                 3652  \n",
       "7                        500                 4253  \n",
       "8                        192                  866  "
      ]
     },
     "execution_count": 27,
     "metadata": {},
     "output_type": "execute_result"
    }
   ],
   "source": [
    "larsh = crime[crime['Description'] == 'LARCENY']\n",
    "son = larsh[larsh['District'] == 'SOUTHERN' ].shape[0]\n",
    "non = larsh[larsh['District'] == 'NORTHERN' ].shape[0]\n",
    "ean = larsh[larsh['District'] == 'EASTERN' ].shape[0]\n",
    "wen = larsh[larsh['District'] == 'WESTERN' ].shape[0]\n",
    "noean = larsh[larsh['District'] == 'NORTHEASTERN' ].shape[0]\n",
    "nowen = larsh[larsh['District'] == 'NORTHWESTERN' ].shape[0]\n",
    "soean = larsh[larsh['District'] == 'SOUTHEASTERN' ].shape[0]\n",
    "sowen = larsh[larsh['District'] == 'SOUTHWESTERN' ].shape[0]\n",
    "cen = larsh[larsh['District'] == 'CENTRAL' ].shape[0]\n",
    "\n",
    "so = crime[crime['District'] == 'SOUTHERN' ].shape[0]\n",
    "no = crime[crime['District'] == 'NORTHERN' ].shape[0]\n",
    "ea = crime[crime['District'] == 'EASTERN' ].shape[0]\n",
    "we = crime[crime['District'] == 'WESTERN' ].shape[0]\n",
    "noea = crime[crime['District'] == 'NORTHEASTERN' ].shape[0]\n",
    "nowe = crime[crime['District'] == 'NORTHWESTERN' ].shape[0]\n",
    "soea = crime[crime['District'] == 'SOUTHEASTERN' ].shape[0]\n",
    "sowe = crime[crime['District'] == 'SOUTHWESTERN' ].shape[0]\n",
    "ce = crime[crime['District'] == 'CENTRAL' ].shape[0]\n",
    "\n",
    "mordi = crime[crime['Description'] == 'SHOOTING']\n",
    "sos = mordi[mordi['District'] == 'SOUTHERN' ].shape[0]\n",
    "nos = mordi[mordi['District'] == 'NORTHERN' ].shape[0]\n",
    "eas = mordi[mordi['District'] == 'EASTERN' ].shape[0]\n",
    "wes = mordi[mordi['District'] == 'WESTERN' ].shape[0]\n",
    "noeas = mordi[mordi['District'] == 'NORTHEASTERN' ].shape[0]\n",
    "nowes = mordi[mordi['District'] == 'NORTHWESTERN' ].shape[0]\n",
    "soeas = mordi[mordi['District'] == 'SOUTHEASTERN' ].shape[0]\n",
    "sowes = mordi[mordi['District'] == 'SOUTHWESTERN' ].shape[0]\n",
    "ces = mordi[mordi['District'] == 'CENTRAL' ].shape[0]\n",
    "\n",
    "sov = vacBuil[vacBuil['PoliceDistrict'] == 'SOUTHERN'].shape[0]\n",
    "nov = vacBuil[vacBuil['PoliceDistrict'] == 'NORTHERN' ].shape[0]\n",
    "eav = vacBuil[vacBuil['PoliceDistrict'] == 'EASTERN' ].shape[0]\n",
    "wev = vacBuil[vacBuil['PoliceDistrict'] == 'WESTERN' ].shape[0]\n",
    "noeav = vacBuil[vacBuil['PoliceDistrict'] == 'NORTHEASTERN' ].shape[0]\n",
    "nowev = vacBuil[vacBuil['PoliceDistrict'] == 'NORTHWESTERN' ].shape[0]\n",
    "soeav = vacBuil[vacBuil['PoliceDistrict'] == 'SOUTHEASTERN' ].shape[0]\n",
    "sowev = vacBuil[vacBuil['PoliceDistrict']== 'SOUTHWESTERN' ].shape[0]\n",
    "cev = vacBuil[vacBuil['PoliceDistrict'] == 'CENTRAL' ].shape[0]\n",
    "\n",
    "g = {'Region': [\"Southern\", \"Southeastern\", \"Southwestern\", \"Northern\", \"Northwestern\", \"Northeastern\", \"Eastern\", \"Western\", \"Central\"],\n",
    "     'Avg. Property Tax': [southMean, southEastMean, southWestMean, northMean, northWestMean, northEastMean, eastMean, westMean, centMean],\n",
    "     'Crime Incidents': [so, soea, sowe, no, nowe, noea, ea, we, ce],\n",
    "     'No. of Larceny': [son, soean, sowen, non, nowen, noean, ean, wen, cen],\n",
    "     'Recorded No. of Shootings': [sos, soeas, sowes, nos, nowes, noeas, eas, wes, ces],\n",
    "     'Vacant Prprty Count': [sov, soeav, sowev, nov, nowev, noeav, eav, wev, cev]}\n",
    "scatterSet = pd.DataFrame(data=g)\n",
    "scatterSet"
   ]
  },
  {
   "cell_type": "code",
   "execution_count": 28,
   "metadata": {},
   "outputs": [
    {
     "data": {
      "text/plain": [
       "<matplotlib.axes._subplots.AxesSubplot at 0x1b84e37d30>"
      ]
     },
     "execution_count": 28,
     "metadata": {},
     "output_type": "execute_result"
    },
    {
     "data": {
      "image/png": "[encoded data removed]",
      "text/plain": [
       "<Figure size 432x288 with 1 Axes>"
      ]
     },
     "metadata": {
      "needs_background": "light"
     },
     "output_type": "display_data"
    }
   ],
   "source": [
    "corr1 = scatterSet.plot.scatter(x='Avg. Property Tax', y='Crime Incidents', c='DarkBlue')\n",
    "corr1"
   ]
  },
  {
   "cell_type": "code",
   "execution_count": 29,
   "metadata": {},
   "outputs": [
    {
     "data": {
      "text/plain": [
       "0.5533969087858234"
      ]
     },
     "execution_count": 29,
     "metadata": {},
     "output_type": "execute_result"
    }
   ],
   "source": [
    "scatterSet['Avg. Property Tax'].corr(scatterSet['Crime Incidents'])"
   ]
  },
  {
   "cell_type": "code",
   "execution_count": 30,
   "metadata": {},
   "outputs": [
    {
     "data": {
      "text/plain": [
       "<matplotlib.axes._subplots.AxesSubplot at 0x1b84e96a20>"
      ]
     },
     "execution_count": 30,
     "metadata": {},
     "output_type": "execute_result"
    },
    {
     "data": {
      "image/png": "[encoded data removed]",
      "text/plain": [
       "<Figure size 432x288 with 1 Axes>"
      ]
     },
     "metadata": {
      "needs_background": "light"
     },
     "output_type": "display_data"
    }
   ],
   "source": [
    "corr2 = scatterSet.plot.scatter(x='Avg. Property Tax', y='No. of Larceny', c='Green')\n",
    "corr2"
   ]
  },
  {
   "cell_type": "code",
   "execution_count": 31,
   "metadata": {},
   "outputs": [
    {
     "data": {
      "text/plain": [
       "0.8081982198709676"
      ]
     },
     "execution_count": 31,
     "metadata": {},
     "output_type": "execute_result"
    }
   ],
   "source": [
    "scatterSet['Avg. Property Tax'].corr(scatterSet['No. of Larceny'])"
   ]
  },
  {
   "cell_type": "code",
   "execution_count": 32,
   "metadata": {},
   "outputs": [
    {
     "data": {
      "text/plain": [
       "<matplotlib.axes._subplots.AxesSubplot at 0x1b84ed8b00>"
      ]
     },
     "execution_count": 32,
     "metadata": {},
     "output_type": "execute_result"
    },
    {
     "data": {
      "image/png": "[encoded data removed]",
      "text/plain": [
       "<Figure size 432x288 with 1 Axes>"
      ]
     },
     "metadata": {
      "needs_background": "light"
     },
     "output_type": "display_data"
    }
   ],
   "source": [
    "corr3 = scatterSet.plot.scatter(x='Avg. Property Tax', y='Recorded No. of Shootings', c='#880000')\n",
    "corr3"
   ]
  },
  {
   "cell_type": "code",
   "execution_count": 33,
   "metadata": {},
   "outputs": [
    {
     "data": {
      "text/plain": [
       "-0.9191412236724367"
      ]
     },
     "execution_count": 33,
     "metadata": {},
     "output_type": "execute_result"
    }
   ],
   "source": [
    "scatterSet['Avg. Property Tax'].corr(scatterSet['Recorded No. of Shootings'])"
   ]
  },
  {
   "cell_type": "code",
   "execution_count": 34,
   "metadata": {},
   "outputs": [
    {
     "data": {
      "text/plain": [
       "<matplotlib.axes._subplots.AxesSubplot at 0x1b857ba198>"
      ]
     },
     "execution_count": 34,
     "metadata": {},
     "output_type": "execute_result"
    },
    {
     "data": {
      "image/png": "[encoded data removed]",
      "text/plain": [
       "<Figure size 432x288 with 1 Axes>"
      ]
     },
     "metadata": {
      "needs_background": "light"
     },
     "output_type": "display_data"
    }
   ],
   "source": [
    "corr4 = scatterSet.plot.scatter(x='Vacant Prprty Count', y='Avg. Property Tax', c='#cc9900')\n",
    "corr4"
   ]
  },
  {
   "cell_type": "code",
   "execution_count": 35,
   "metadata": {},
   "outputs": [
    {
     "data": {
      "text/plain": [
       "-0.8868543067219442"
      ]
     },
     "execution_count": 35,
     "metadata": {},
     "output_type": "execute_result"
    }
   ],
   "source": [
    "scatterSet['Avg. Property Tax'].corr(scatterSet['Vacant Prprty Count'])"
   ]
  },
  {
   "cell_type": "markdown",
   "metadata": {},
   "source": [
    "-----------------------------------------------"
   ]
  },
  {
   "cell_type": "code",
   "execution_count": 36,
   "metadata": {},
   "outputs": [
    {
     "data": {
      "text/plain": [
       "array(['WESTERN', 'SOUTHWESTERN', 'EASTERN', 'SOUTHEASTERN',\n",
       "       'NORTHWESTERN', 'NORTHERN', 'NORTHEASTERN', 'SOUTHERN', 'CENTRAL'],\n",
       "      dtype=object)"
      ]
     },
     "execution_count": 36,
     "metadata": {},
     "output_type": "execute_result"
    }
   ],
   "source": [
    "(vacBuil['PoliceDistrict'].unique())"
   ]
  },
  {
   "cell_type": "code",
   "execution_count": 37,
   "metadata": {},
   "outputs": [],
   "source": [
    "dfV = vacBuil['PoliceDistrict'].value_counts().rename_axis('PoliceDistrict').reset_index(name='vacancy')\n",
    "dfV['PoliceDistrict'] = dfV['PoliceDistrict'].replace(['Notheastern'],['NORTHEASTERN'])\n",
    "dfV = dfV[:9]"
   ]
  },
  {
   "cell_type": "code",
   "execution_count": 38,
   "metadata": {},
   "outputs": [],
   "source": [
    "dfC = crime['District'].value_counts().rename_axis('PoliceDistrict').reset_index(name='crime')"
   ]
  },
  {
   "cell_type": "code",
   "execution_count": 39,
   "metadata": {},
   "outputs": [
    {
     "data": {
      "text/html": [
       "<div>\n",
       "<style scoped>\n",
       "    .dataframe tbody tr th:only-of-type {\n",
       "        vertical-align: middle;\n",
       "    }\n",
       "\n",
       "    .dataframe tbody tr th {\n",
       "        vertical-align: top;\n",
       "    }\n",
       "\n",
       "    .dataframe thead th {\n",
       "        text-align: right;\n",
       "    }\n",
       "</style>\n",
       "<table border=\"1\" class=\"dataframe\">\n",
       "  <thead>\n",
       "    <tr style=\"text-align: right;\">\n",
       "      <th></th>\n",
       "      <th>PoliceDistrict</th>\n",
       "      <th>vacancy</th>\n",
       "    </tr>\n",
       "  </thead>\n",
       "  <tbody>\n",
       "    <tr>\n",
       "      <th>0</th>\n",
       "      <td>WESTERN</td>\n",
       "      <td>4253</td>\n",
       "    </tr>\n",
       "    <tr>\n",
       "      <th>1</th>\n",
       "      <td>EASTERN</td>\n",
       "      <td>3652</td>\n",
       "    </tr>\n",
       "    <tr>\n",
       "      <th>2</th>\n",
       "      <td>SOUTHWESTERN</td>\n",
       "      <td>2304</td>\n",
       "    </tr>\n",
       "    <tr>\n",
       "      <th>3</th>\n",
       "      <td>SOUTHERN</td>\n",
       "      <td>1713</td>\n",
       "    </tr>\n",
       "    <tr>\n",
       "      <th>4</th>\n",
       "      <td>NORTHWESTERN</td>\n",
       "      <td>1579</td>\n",
       "    </tr>\n",
       "    <tr>\n",
       "      <th>5</th>\n",
       "      <td>NORTHEASTERN</td>\n",
       "      <td>961</td>\n",
       "    </tr>\n",
       "    <tr>\n",
       "      <th>6</th>\n",
       "      <td>CENTRAL</td>\n",
       "      <td>866</td>\n",
       "    </tr>\n",
       "    <tr>\n",
       "      <th>7</th>\n",
       "      <td>NORTHERN</td>\n",
       "      <td>733</td>\n",
       "    </tr>\n",
       "    <tr>\n",
       "      <th>8</th>\n",
       "      <td>SOUTHEASTERN</td>\n",
       "      <td>701</td>\n",
       "    </tr>\n",
       "  </tbody>\n",
       "</table>\n",
       "</div>"
      ],
      "text/plain": [
       "  PoliceDistrict  vacancy\n",
       "0        WESTERN     4253\n",
       "1        EASTERN     3652\n",
       "2   SOUTHWESTERN     2304\n",
       "3       SOUTHERN     1713\n",
       "4   NORTHWESTERN     1579\n",
       "5   NORTHEASTERN      961\n",
       "6        CENTRAL      866\n",
       "7       NORTHERN      733\n",
       "8   SOUTHEASTERN      701"
      ]
     },
     "execution_count": 39,
     "metadata": {},
     "output_type": "execute_result"
    }
   ],
   "source": [
    "dfV"
   ]
  },
  {
   "cell_type": "code",
   "execution_count": 40,
   "metadata": {},
   "outputs": [
    {
     "data": {
      "text/html": [
       "<div>\n",
       "<style scoped>\n",
       "    .dataframe tbody tr th:only-of-type {\n",
       "        vertical-align: middle;\n",
       "    }\n",
       "\n",
       "    .dataframe tbody tr th {\n",
       "        vertical-align: top;\n",
       "    }\n",
       "\n",
       "    .dataframe thead th {\n",
       "        text-align: right;\n",
       "    }\n",
       "</style>\n",
       "<table border=\"1\" class=\"dataframe\">\n",
       "  <thead>\n",
       "    <tr style=\"text-align: right;\">\n",
       "      <th></th>\n",
       "      <th>PoliceDistrict</th>\n",
       "      <th>crime</th>\n",
       "    </tr>\n",
       "  </thead>\n",
       "  <tbody>\n",
       "    <tr>\n",
       "      <th>0</th>\n",
       "      <td>NORTHEASTERN</td>\n",
       "      <td>38634</td>\n",
       "    </tr>\n",
       "    <tr>\n",
       "      <th>1</th>\n",
       "      <td>SOUTHEASTERN</td>\n",
       "      <td>36675</td>\n",
       "    </tr>\n",
       "    <tr>\n",
       "      <th>2</th>\n",
       "      <td>SOUTHERN</td>\n",
       "      <td>29363</td>\n",
       "    </tr>\n",
       "    <tr>\n",
       "      <th>3</th>\n",
       "      <td>CENTRAL</td>\n",
       "      <td>28612</td>\n",
       "    </tr>\n",
       "    <tr>\n",
       "      <th>4</th>\n",
       "      <td>NORTHERN</td>\n",
       "      <td>28527</td>\n",
       "    </tr>\n",
       "    <tr>\n",
       "      <th>5</th>\n",
       "      <td>SOUTHWESTERN</td>\n",
       "      <td>25691</td>\n",
       "    </tr>\n",
       "    <tr>\n",
       "      <th>6</th>\n",
       "      <td>NORTHWESTERN</td>\n",
       "      <td>25200</td>\n",
       "    </tr>\n",
       "    <tr>\n",
       "      <th>7</th>\n",
       "      <td>EASTERN</td>\n",
       "      <td>22084</td>\n",
       "    </tr>\n",
       "    <tr>\n",
       "      <th>8</th>\n",
       "      <td>WESTERN</td>\n",
       "      <td>20175</td>\n",
       "    </tr>\n",
       "  </tbody>\n",
       "</table>\n",
       "</div>"
      ],
      "text/plain": [
       "  PoliceDistrict  crime\n",
       "0   NORTHEASTERN  38634\n",
       "1   SOUTHEASTERN  36675\n",
       "2       SOUTHERN  29363\n",
       "3        CENTRAL  28612\n",
       "4       NORTHERN  28527\n",
       "5   SOUTHWESTERN  25691\n",
       "6   NORTHWESTERN  25200\n",
       "7        EASTERN  22084\n",
       "8        WESTERN  20175"
      ]
     },
     "execution_count": 40,
     "metadata": {},
     "output_type": "execute_result"
    }
   ],
   "source": [
    "dfC"
   ]
  },
  {
   "cell_type": "code",
   "execution_count": 41,
   "metadata": {},
   "outputs": [],
   "source": [
    "avgs['PoliceDistrict'] = avgs['PoliceDistrict'].replace(['western'],['WESTERN'])\n",
    "avgs['PoliceDistrict'] = avgs['PoliceDistrict'].replace(['Eastern'],['EASTERN'])\n",
    "avgs['PoliceDistrict'] = avgs['PoliceDistrict'].replace(['South'],['SOUTHERN'])\n",
    "avgs['PoliceDistrict'] = avgs['PoliceDistrict'].replace(['Southwestern'],['SOUTHWESTERN'])\n",
    "avgs['PoliceDistrict'] = avgs['PoliceDistrict'].replace(['Northern'],['NORTHERN'])\n",
    "avgs['PoliceDistrict'] = avgs['PoliceDistrict'].replace(['Southeastern'],['SOUTHEASTERN'])\n",
    "avgs['PoliceDistrict'] = avgs['PoliceDistrict'].replace(['Central'],['CENTRAL'])\n",
    "avgs['PoliceDistrict'] = avgs['PoliceDistrict'].replace(['Northeastern'],['NORTHEASTERN'])\n",
    "avgs['PoliceDistrict'] = avgs['PoliceDistrict'].replace(['Northwestern'],['NORTHWESTERN'])"
   ]
  },
  {
   "cell_type": "code",
   "execution_count": 42,
   "metadata": {},
   "outputs": [
    {
     "data": {
      "text/html": [
       "<div>\n",
       "<style scoped>\n",
       "    .dataframe tbody tr th:only-of-type {\n",
       "        vertical-align: middle;\n",
       "    }\n",
       "\n",
       "    .dataframe tbody tr th {\n",
       "        vertical-align: top;\n",
       "    }\n",
       "\n",
       "    .dataframe thead th {\n",
       "        text-align: right;\n",
       "    }\n",
       "</style>\n",
       "<table border=\"1\" class=\"dataframe\">\n",
       "  <thead>\n",
       "    <tr style=\"text-align: right;\">\n",
       "      <th></th>\n",
       "      <th>PoliceDistrict</th>\n",
       "      <th>Mean</th>\n",
       "    </tr>\n",
       "  </thead>\n",
       "  <tbody>\n",
       "    <tr>\n",
       "      <th>3</th>\n",
       "      <td>NORTHERN</td>\n",
       "      <td>5472.633669</td>\n",
       "    </tr>\n",
       "    <tr>\n",
       "      <th>8</th>\n",
       "      <td>CENTRAL</td>\n",
       "      <td>5038.048845</td>\n",
       "    </tr>\n",
       "    <tr>\n",
       "      <th>1</th>\n",
       "      <td>SOUTHEASTERN</td>\n",
       "      <td>4843.351145</td>\n",
       "    </tr>\n",
       "    <tr>\n",
       "      <th>0</th>\n",
       "      <td>SOUTHERN</td>\n",
       "      <td>4578.590584</td>\n",
       "    </tr>\n",
       "    <tr>\n",
       "      <th>5</th>\n",
       "      <td>NORTHWESTERN</td>\n",
       "      <td>3439.913550</td>\n",
       "    </tr>\n",
       "    <tr>\n",
       "      <th>4</th>\n",
       "      <td>NORTHEASTERN</td>\n",
       "      <td>2951.823197</td>\n",
       "    </tr>\n",
       "    <tr>\n",
       "      <th>2</th>\n",
       "      <td>SOUTHWESTERN</td>\n",
       "      <td>2239.378969</td>\n",
       "    </tr>\n",
       "    <tr>\n",
       "      <th>6</th>\n",
       "      <td>EASTERN</td>\n",
       "      <td>1276.372075</td>\n",
       "    </tr>\n",
       "    <tr>\n",
       "      <th>7</th>\n",
       "      <td>WESTERN</td>\n",
       "      <td>1035.716502</td>\n",
       "    </tr>\n",
       "  </tbody>\n",
       "</table>\n",
       "</div>"
      ],
      "text/plain": [
       "  PoliceDistrict         Mean\n",
       "3       NORTHERN  5472.633669\n",
       "8        CENTRAL  5038.048845\n",
       "1   SOUTHEASTERN  4843.351145\n",
       "0       SOUTHERN  4578.590584\n",
       "5   NORTHWESTERN  3439.913550\n",
       "4   NORTHEASTERN  2951.823197\n",
       "2   SOUTHWESTERN  2239.378969\n",
       "6        EASTERN  1276.372075\n",
       "7        WESTERN  1035.716502"
      ]
     },
     "execution_count": 42,
     "metadata": {},
     "output_type": "execute_result"
    }
   ],
   "source": [
    "avgs"
   ]
  },
  {
   "cell_type": "code",
   "execution_count": 43,
   "metadata": {},
   "outputs": [
    {
     "data": {
      "text/html": [
       "<div>\n",
       "<style scoped>\n",
       "    .dataframe tbody tr th:only-of-type {\n",
       "        vertical-align: middle;\n",
       "    }\n",
       "\n",
       "    .dataframe tbody tr th {\n",
       "        vertical-align: top;\n",
       "    }\n",
       "\n",
       "    .dataframe thead th {\n",
       "        text-align: right;\n",
       "    }\n",
       "</style>\n",
       "<table border=\"1\" class=\"dataframe\">\n",
       "  <thead>\n",
       "    <tr style=\"text-align: right;\">\n",
       "      <th></th>\n",
       "      <th>Mean</th>\n",
       "      <th>crime</th>\n",
       "      <th>vacancy</th>\n",
       "    </tr>\n",
       "    <tr>\n",
       "      <th>PoliceDistrict</th>\n",
       "      <th></th>\n",
       "      <th></th>\n",
       "      <th></th>\n",
       "    </tr>\n",
       "  </thead>\n",
       "  <tbody>\n",
       "    <tr>\n",
       "      <th>NORTHERN</th>\n",
       "      <td>5472.633669</td>\n",
       "      <td>28527</td>\n",
       "      <td>733</td>\n",
       "    </tr>\n",
       "    <tr>\n",
       "      <th>CENTRAL</th>\n",
       "      <td>5038.048845</td>\n",
       "      <td>28612</td>\n",
       "      <td>866</td>\n",
       "    </tr>\n",
       "    <tr>\n",
       "      <th>SOUTHEASTERN</th>\n",
       "      <td>4843.351145</td>\n",
       "      <td>36675</td>\n",
       "      <td>701</td>\n",
       "    </tr>\n",
       "    <tr>\n",
       "      <th>SOUTHERN</th>\n",
       "      <td>4578.590584</td>\n",
       "      <td>29363</td>\n",
       "      <td>1713</td>\n",
       "    </tr>\n",
       "    <tr>\n",
       "      <th>NORTHWESTERN</th>\n",
       "      <td>3439.913550</td>\n",
       "      <td>25200</td>\n",
       "      <td>1579</td>\n",
       "    </tr>\n",
       "    <tr>\n",
       "      <th>NORTHEASTERN</th>\n",
       "      <td>2951.823197</td>\n",
       "      <td>38634</td>\n",
       "      <td>961</td>\n",
       "    </tr>\n",
       "    <tr>\n",
       "      <th>SOUTHWESTERN</th>\n",
       "      <td>2239.378969</td>\n",
       "      <td>25691</td>\n",
       "      <td>2304</td>\n",
       "    </tr>\n",
       "    <tr>\n",
       "      <th>EASTERN</th>\n",
       "      <td>1276.372075</td>\n",
       "      <td>22084</td>\n",
       "      <td>3652</td>\n",
       "    </tr>\n",
       "    <tr>\n",
       "      <th>WESTERN</th>\n",
       "      <td>1035.716502</td>\n",
       "      <td>20175</td>\n",
       "      <td>4253</td>\n",
       "    </tr>\n",
       "  </tbody>\n",
       "</table>\n",
       "</div>"
      ],
      "text/plain": [
       "                       Mean  crime  vacancy\n",
       "PoliceDistrict                             \n",
       "NORTHERN        5472.633669  28527      733\n",
       "CENTRAL         5038.048845  28612      866\n",
       "SOUTHEASTERN    4843.351145  36675      701\n",
       "SOUTHERN        4578.590584  29363     1713\n",
       "NORTHWESTERN    3439.913550  25200     1579\n",
       "NORTHEASTERN    2951.823197  38634      961\n",
       "SOUTHWESTERN    2239.378969  25691     2304\n",
       "EASTERN         1276.372075  22084     3652\n",
       "WESTERN         1035.716502  20175     4253"
      ]
     },
     "execution_count": 43,
     "metadata": {},
     "output_type": "execute_result"
    }
   ],
   "source": [
    "modelUse = avgs\n",
    "modelUse = modelUse.set_index('PoliceDistrict').join(dfC.set_index('PoliceDistrict'))\n",
    "modelUse = modelUse.join(dfV.set_index('PoliceDistrict'))\n",
    "modelUse"
   ]
  },
  {
   "cell_type": "markdown",
   "metadata": {},
   "source": [
    "## Models\n",
    "Were gonna have two Models.\n",
    "One is going to take the average Property tax per District and crime \n",
    "Another is gonna be the vacancy rates per city and crime.\n",
    "Looking to see which is a better marker for crime prediction."
   ]
  },
  {
   "cell_type": "code",
   "execution_count": 44,
   "metadata": {},
   "outputs": [],
   "source": [
    "dataset_xT = modelUse['Mean'][4:].values\n",
    "dataset_yT = modelUse['crime'][4:].values\n",
    "dataset_xT = dataset_xT.reshape(-1,1)\n",
    "dataset_yT = dataset_yT.reshape(-1,1)"
   ]
  },
  {
   "cell_type": "code",
   "execution_count": 45,
   "metadata": {},
   "outputs": [],
   "source": [
    "dataset_xTV = modelUse['vacancy'][4:].values\n",
    "dataset_yTV = modelUse['crime'][4:].values\n",
    "dataset_xTV = dataset_xTV.reshape(-1,1)\n",
    "dataset_yTV = dataset_yTV.reshape(-1,1)"
   ]
  },
  {
   "cell_type": "code",
   "execution_count": 46,
   "metadata": {},
   "outputs": [],
   "source": [
    "test_X = modelUse['Mean'][5:].values\n",
    "test_Y = modelUse['crime'][5:].values"
   ]
  },
  {
   "cell_type": "code",
   "execution_count": 47,
   "metadata": {},
   "outputs": [],
   "source": [
    "test_X = test_X.reshape(-1,1)\n",
    "test_Y = test_Y.reshape(-1,1)"
   ]
  },
  {
   "cell_type": "code",
   "execution_count": 48,
   "metadata": {},
   "outputs": [],
   "source": [
    "regr = linear_model.LinearRegression()"
   ]
  },
  {
   "cell_type": "code",
   "execution_count": 49,
   "metadata": {},
   "outputs": [],
   "source": [
    "test_XV = modelUse['vacancy'][5:].values\n",
    "test_YV = modelUse['crime'][5:].values\n",
    "test_XV = test_XV.reshape(-1,1)\n",
    "test_YV = test_YV.reshape(-1,1)"
   ]
  },
  {
   "cell_type": "code",
   "execution_count": 50,
   "metadata": {},
   "outputs": [
    {
     "data": {
      "text/plain": [
       "LinearRegression(copy_X=True, fit_intercept=True, n_jobs=None,\n",
       "         normalize=False)"
      ]
     },
     "execution_count": 50,
     "metadata": {},
     "output_type": "execute_result"
    }
   ],
   "source": [
    "regr.fit(dataset_xT, dataset_yT)"
   ]
  },
  {
   "cell_type": "code",
   "execution_count": 51,
   "metadata": {},
   "outputs": [
    {
     "data": {
      "text/plain": [
       "LinearRegression(copy_X=True, fit_intercept=True, n_jobs=None,\n",
       "         normalize=False)"
      ]
     },
     "execution_count": 51,
     "metadata": {},
     "output_type": "execute_result"
    }
   ],
   "source": [
    "regrv = linear_model.LinearRegression()\n",
    "regrv.fit(dataset_xTV, dataset_yTV)"
   ]
  },
  {
   "cell_type": "code",
   "execution_count": 52,
   "metadata": {},
   "outputs": [],
   "source": [
    "test = regr.predict(test_X)\n",
    "testV = regrv.predict(test_XV)"
   ]
  },
  {
   "cell_type": "code",
   "execution_count": 53,
   "metadata": {},
   "outputs": [
    {
     "name": "stdout",
     "output_type": "stream",
     "text": [
      "Coefficients: \n",
      " [[4.38608898]]\n",
      "Mean squared error: 20467503.13\n",
      "Variance score: 0.61\n"
     ]
    },
    {
     "data": {
      "image/png": "[encoded data removed]",
      "text/plain": [
       "<Figure size 432x288 with 1 Axes>"
      ]
     },
     "metadata": {},
     "output_type": "display_data"
    }
   ],
   "source": [
    "plt.scatter(test_X, test_Y, color='red')\n",
    "plt.plot(test_X, test, color='green',linewidth=3)\n",
    "plt.xticks(())\n",
    "plt.yticks(())\n",
    "# The coefficients\n",
    "print('Coefficients: \\n', regr.coef_)\n",
    "# The mean squared error\n",
    "print(\"Mean squared error: %.2f\"\n",
    "      % mean_squared_error(test_Y, test))\n",
    "# Explained variance score: 1 is perfect prediction\n",
    "print('Variance score: %.2f' % r2_score(test_Y, test))\n",
    "\n",
    "plt.show()"
   ]
  },
  {
   "cell_type": "code",
   "execution_count": 54,
   "metadata": {},
   "outputs": [
    {
     "name": "stdout",
     "output_type": "stream",
     "text": [
      "Coefficients: \n",
      " [[-4.37761877]]\n",
      "Mean squared error: 8321614.14\n",
      "Variance score: 0.84\n"
     ]
    },
    {
     "data": {
      "image/png": "[encoded data removed]",
      "text/plain": [
       "<Figure size 432x288 with 1 Axes>"
      ]
     },
     "metadata": {},
     "output_type": "display_data"
    }
   ],
   "source": [
    "plt.scatter(test_XV, test_YV, color='red')\n",
    "plt.plot(test_XV, testV, color='green',linewidth=3)\n",
    "plt.xticks(())\n",
    "plt.yticks(())\n",
    "# The coefficients\n",
    "print('Coefficients: \\n', regrv.coef_)\n",
    "# The mean squared error\n",
    "print(\"Mean squared error: %.2f\"\n",
    "      % mean_squared_error(test_YV, testV))\n",
    "# Explained variance score: 1 is perfect prediction\n",
    "print('Variance score: %.2f' % r2_score(test_YV, testV))\n",
    "\n",
    "plt.show()"
   ]
  },
  {
   "cell_type": "code",
   "execution_count": null,
   "metadata": {},
   "outputs": [],
   "source": [
    "\n"
   ]
  },
  {
   "cell_type": "code",
   "execution_count": null,
   "metadata": {},
   "outputs": [],
   "source": []
  }
 ],
 "metadata": {
  "kernelspec": {
   "display_name": "Python 3",
   "language": "python",
   "name": "python3"
  },
  "language_info": {
   "codemirror_mode": {
    "name": "ipython",
    "version": 3
   },
   "file_extension": ".py",
   "mimetype": "text/x-python",
   "name": "python",
   "nbconvert_exporter": "python",
   "pygments_lexer": "ipython3",
   "version": "3.7.1"
  }
 },
 "nbformat": 4,
 "nbformat_minor": 2
}
